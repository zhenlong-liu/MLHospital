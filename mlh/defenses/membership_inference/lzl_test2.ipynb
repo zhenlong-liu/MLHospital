{
 "cells": [
  {
   "cell_type": "code",
   "execution_count": 4,
   "metadata": {},
   "outputs": [],
   "source": [
    "\n",
    "class User():\n",
    "    def __init__(self,baba,name='zzz',age=19,sex='f'):\n",
    "        self.name=name\n",
    "        self.age=age\n",
    "        self.sex=sex\n",
    "        self.baba =baba\n",
    "        # self.__place=place\n",
    "        self.info=25\n",
    " \n",
    "    def show(self):\n",
    "        print('name:',self.name)\n",
    "        print('age:',self.age,'sex:',self.sex)\n",
    " \n"
   ]
  },
  {
   "cell_type": "code",
   "execution_count": 16,
   "metadata": {},
   "outputs": [
    {
     "name": "stdout",
     "output_type": "stream",
     "text": [
      "name: zz1\n",
      "age: 25 baba: 58\n",
      "lzl3\n",
      "55\n",
      "25\n"
     ]
    }
   ],
   "source": [
    "class Admin(User):\n",
    "    def __init__(self,baba,name='zz1',age=19,sex='f',mama = 5):\n",
    "        super(Admin,self).__init__(baba,name,age,sex)#因为此处要用父类的sex初值，所以就无须提供sex的值了\n",
    "        self.mama = mama\n",
    "    def show(self):\n",
    "        print('name:', self.name)\n",
    "        print('age:',self.age, 'baba:',self.baba)\n",
    "\n",
    "\n",
    "a3=Admin(age=25,baba=58, mama=6)\n",
    "a3\n",
    "a3.show()\n",
    "\n",
    "a3.name = 'lzl3'\n",
    "print(a3.name)\n",
    "a3.age = '55'\n",
    "print(a3.age)\n",
    "# 可见此时age没有更改, 而name和规定的一样\n",
    "\n",
    "print(a3.info)\n"
   ]
  },
  {
   "cell_type": "code",
   "execution_count": null,
   "metadata": {},
   "outputs": [],
   "source": [
    "class Admin(User):\n",
    "    def __init__(self,baba,name='zzz',age=19,sex='f',mama = 5):\n",
    "        super().__init__(baba,name,age,sex)#因为此处要用父类的sex初值，所以就无须提供sex的值了\n",
    "        self.mama = mama\n",
    "    def show(self):\n",
    "        print('name:', self.name)\n",
    "        print('age:',self.age, 'baba:',self.baba)\n",
    "\n",
    "\n",
    "a3=Admin(age=25,baba=58)\n",
    "a3\n",
    "a3.show()\n",
    "\n",
    "a3.name = 'lzl3'\n",
    "print(a3.name)\n",
    "a3.age = '55'\n",
    "print(a3.age)\n",
    "# 可见此时age没有更改, 而name和规定的一样"
   ]
  },
  {
   "cell_type": "code",
   "execution_count": 1,
   "metadata": {},
   "outputs": [],
   "source": [
    "temp = 0.1\n",
    "training_type = 'normal'\n",
    "clear =f'>./{training_type}_mia_{temp}temp.log'\n",
    "# 'Normal, LabelSmoothing, AdvReg, DP, MixupMMD, PATE, TrainTargetLogitNorm'\n"
   ]
  },
  {
   "cell_type": "code",
   "execution_count": null,
   "metadata": {},
   "outputs": [],
   "source": [
    "temp = 0.1\n",
    "training_type = 'normal'\n",
    "clear ='>./logitnorm_mia.log'\n",
    "\n",
    "cmd = f'python train_target_models.py --mode target --training_type TrainTargetLogitNorm --temp {temp}'\n",
    "os.system(cmd)\n",
    "cmd = f'python train_target_models.py --mode shadow --training_type TrainTargetLogitNorm --temp {temp}'\n",
    "os.system(cmd)\n",
    "cmd = f'nohup python mia_example.py --training_type TrainTargetLogitNorm --temp {temp}>> logitnorm_mia.log 2>&1'\n",
    "os.system(cmd)\n"
   ]
  },
  {
   "cell_type": "code",
   "execution_count": 3,
   "metadata": {},
   "outputs": [
    {
     "name": "stdout",
     "output_type": "stream",
     "text": [
      "nohup python mia_example.py --training_type Normal --temp 1>> normal_ce.log 2>&1\n"
     ]
    }
   ],
   "source": [
    "import os\n",
    "\n",
    "temp = 1\n",
    "training_type = 'TrainTargetLogitNorm'\n",
    "clear =f'>./{training_type}_mia_{temp}temp.log'\n",
    "\n",
    "# 'Normal, LabelSmoothing, AdvReg, DP, MixupMMD, PATE, TrainTargetLogitNorm'\n",
    "\n",
    "cmd = f'nohup python train_target_models.py --mode target --training_type {training_type} --temp {temp}'\n",
    "os.system(cmd)\n",
    "cmd = f'nohup python train_target_models.py --mode shadow --training_type {training_type} --temp {temp}'\n",
    "os.system(cmd)\n",
    "clear = f'>./mia_{training_type}.log'\n",
    "os.system(clear)\n",
    "cmd = f'nohup python mia_example.py --training_type {training_type} --temp {temp} >> mia_{training_type}.log 2>&1'\n",
    "os.system(cmd)"
   ]
  },
  {
   "cell_type": "code",
   "execution_count": 6,
   "metadata": {},
   "outputs": [
    {
     "name": "stdout",
     "output_type": "stream",
     "text": [
      "nohup python mia_example.py --training_type Normal --temp 1>> normal_ce.log 2>&1 &\n"
     ]
    }
   ],
   "source": [
    "# cmd = f'nohup python mia_example.py --training_type Normal --temp {temp}>> normal_ce.log 2>&1 &'\n",
    "\n",
    "cmd = f'nohup python mia_example.py --training_type Normal --temp {temp}>> normal_ce.log 2>&1 &'\n",
    "print(cmd)"
   ]
  },
  {
   "cell_type": "code",
   "execution_count": 7,
   "metadata": {},
   "outputs": [
    {
     "data": {
      "text/plain": [
       "0"
      ]
     },
     "execution_count": 7,
     "metadata": {},
     "output_type": "execute_result"
    }
   ],
   "source": [
    "os.system(cmd)"
   ]
  },
  {
   "cell_type": "code",
   "execution_count": 1,
   "metadata": {},
   "outputs": [
    {
     "name": "stderr",
     "output_type": "stream",
     "text": [
      "/data/anaconda3/envs/ml-hospital/lib/python3.8/site-packages/tqdm/auto.py:22: TqdmWarning: IProgress not found. Please update jupyter and ipywidgets. See https://ipywidgets.readthedocs.io/en/stable/user_install.html\n",
      "  from .autonotebook import tqdm as notebook_tqdm\n"
     ]
    }
   ],
   "source": [
    "import torch\n",
    "a = torch.zeros(2)\n",
    "b = torch.ones(2)\n",
    "x = torch.rand(5)\n",
    "y = torch.rand(5)\n",
    "z= torch.rand(5,3)"
   ]
  },
  {
   "cell_type": "code",
   "execution_count": 2,
   "metadata": {},
   "outputs": [
    {
     "ename": "RuntimeError",
     "evalue": "The size of tensor a (3) must match the size of tensor b (5) at non-singleton dimension 1",
     "output_type": "error",
     "traceback": [
      "\u001b[0;31m---------------------------------------------------------------------------\u001b[0m",
      "\u001b[0;31mRuntimeError\u001b[0m                              Traceback (most recent call last)",
      "Cell \u001b[0;32mIn[2], line 2\u001b[0m\n\u001b[1;32m      1\u001b[0m c \u001b[39m=\u001b[39m (x \u001b[39m>\u001b[39m\u001b[39m=\u001b[39my)\n\u001b[0;32m----> 2\u001b[0m \u001b[39mprint\u001b[39m(z\u001b[39m*\u001b[39;49my)\n",
      "\u001b[0;31mRuntimeError\u001b[0m: The size of tensor a (3) must match the size of tensor b (5) at non-singleton dimension 1"
     ]
    }
   ],
   "source": [
    "c = (x >=y)\n",
    "print(z*y)"
   ]
  }
 ],
 "metadata": {
  "kernelspec": {
   "display_name": "ml-hospital",
   "language": "python",
   "name": "python3"
  },
  "language_info": {
   "codemirror_mode": {
    "name": "ipython",
    "version": 3
   },
   "file_extension": ".py",
   "mimetype": "text/x-python",
   "name": "python",
   "nbconvert_exporter": "python",
   "pygments_lexer": "ipython3",
   "version": "3.8.16"
  },
  "orig_nbformat": 4
 },
 "nbformat": 4,
 "nbformat_minor": 2
}
