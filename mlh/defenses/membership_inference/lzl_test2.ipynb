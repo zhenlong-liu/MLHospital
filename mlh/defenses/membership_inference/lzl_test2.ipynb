{
 "cells": [
  {
   "cell_type": "code",
   "execution_count": 4,
   "metadata": {},
   "outputs": [],
   "source": [
    "\n",
    "class User():\n",
    "    def __init__(self,baba,name='zzz',age=19,sex='f'):\n",
    "        self.name=name\n",
    "        self.age=age\n",
    "        self.sex=sex\n",
    "        self.baba =baba\n",
    "        # self.__place=place\n",
    "        self.info=25\n",
    " \n",
    "    def show(self):\n",
    "        print('name:',self.name)\n",
    "        print('age:',self.age,'sex:',self.sex)\n",
    " \n"
   ]
  },
  {
   "cell_type": "code",
   "execution_count": 16,
   "metadata": {},
   "outputs": [
    {
     "name": "stdout",
     "output_type": "stream",
     "text": [
      "name: zz1\n",
      "age: 25 baba: 58\n",
      "lzl3\n",
      "55\n",
      "25\n"
     ]
    }
   ],
   "source": [
    "class Admin(User):\n",
    "    def __init__(self,baba,name='zz1',age=19,sex='f',mama = 5):\n",
    "        super(Admin,self).__init__(baba,name,age,sex)#因为此处要用父类的sex初值，所以就无须提供sex的值了\n",
    "        self.mama = mama\n",
    "    def show(self):\n",
    "        print('name:', self.name)\n",
    "        print('age:',self.age, 'baba:',self.baba)\n",
    "\n",
    "\n",
    "a3=Admin(age=25,baba=58, mama=6)\n",
    "a3\n",
    "a3.show()\n",
    "\n",
    "a3.name = 'lzl3'\n",
    "print(a3.name)\n",
    "a3.age = '55'\n",
    "print(a3.age)\n",
    "# 可见此时age没有更改, 而name和规定的一样\n",
    "\n",
    "print(a3.info)\n"
   ]
  },
  {
   "cell_type": "code",
   "execution_count": null,
   "metadata": {},
   "outputs": [],
   "source": [
    "class Admin(User):\n",
    "    def __init__(self,baba,name='zzz',age=19,sex='f',mama = 5):\n",
    "        super().__init__(baba,name,age,sex)#因为此处要用父类的sex初值，所以就无须提供sex的值了\n",
    "        self.mama = mama\n",
    "    def show(self):\n",
    "        print('name:', self.name)\n",
    "        print('age:',self.age, 'baba:',self.baba)\n",
    "\n",
    "\n",
    "a3=Admin(age=25,baba=58)\n",
    "a3\n",
    "a3.show()\n",
    "\n",
    "a3.name = 'lzl3'\n",
    "print(a3.name)\n",
    "a3.age = '55'\n",
    "print(a3.age)\n",
    "# 可见此时age没有更改, 而name和规定的一样"
   ]
  }
 ],
 "metadata": {
  "kernelspec": {
   "display_name": "ml-hospital",
   "language": "python",
   "name": "python3"
  },
  "language_info": {
   "codemirror_mode": {
    "name": "ipython",
    "version": 3
   },
   "file_extension": ".py",
   "mimetype": "text/x-python",
   "name": "python",
   "nbconvert_exporter": "python",
   "pygments_lexer": "ipython3",
   "version": "3.8.16"
  },
  "orig_nbformat": 4
 },
 "nbformat": 4,
 "nbformat_minor": 2
}
