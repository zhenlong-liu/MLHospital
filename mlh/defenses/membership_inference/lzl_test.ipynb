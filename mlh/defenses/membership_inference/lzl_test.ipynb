{
 "cells": [
  {
   "cell_type": "code",
   "execution_count": 6,
   "metadata": {},
   "outputs": [
    {
     "name": "stderr",
     "output_type": "stream",
     "text": [
      "/data/anaconda3/envs/ml-hospital/lib/python3.8/site-packages/tqdm/auto.py:22: TqdmWarning: IProgress not found. Please update jupyter and ipywidgets. See https://ipywidgets.readthedocs.io/en/stable/user_install.html\n",
      "  from .autonotebook import tqdm as notebook_tqdm\n"
     ]
    }
   ],
   "source": [
    "import os\n",
    "import sys\n",
    "sys.path.append('/home/liuzhenlong/MIA/MLHospital/mlh/')\n",
    "sys.path.append('/home/liuzhenlong/MIA/MLHospital/mlh/defenses')\n",
    "\n",
    "import torchvision\n",
    "from defenses.membership_inference.AdvReg import TrainTargetAdvReg\n",
    "from defenses.membership_inference.DPSGD import TrainTargetDP\n",
    "from defenses.membership_inference.LabelSmoothing import TrainTargetLabelSmoothing\n",
    "from defenses.membership_inference.MixupMMD import TrainTargetMixupMMD\n",
    "from defenses.membership_inference.PATE import TrainTargetPATE\n",
    "from defenses.membership_inference.Normal import TrainTargetNormal\n",
    "from tqdm import tqdm\n",
    "import torch\n",
    "import torch.nn as nn\n",
    "import torch.nn.functional as F\n",
    "from data_preprocessing.data_loader import GetDataLoader\n",
    "from torchvision import datasets\n",
    "import torchvision.transforms as transforms\n",
    "import argparse\n",
    "import numpy as np\n",
    "import torch.optim as optim\n",
    "torch.manual_seed(0)\n",
    "np.random.seed(0)\n",
    "torch.set_num_threads(1)\n",
    "\n",
    "\n"
   ]
  },
  {
   "cell_type": "code",
   "execution_count": 11,
   "metadata": {},
   "outputs": [],
   "source": [
    "def parse_args(config_list):\n",
    "    parser = argparse.ArgumentParser('argument for training')\n",
    "\n",
    "    parser.add_argument('--batch-size', type=int, default=512,\n",
    "                        help='batch_size')\n",
    "    parser.add_argument('--num-workers', type=int, default=10,\n",
    "                        help='num of workers to use')\n",
    "\n",
    "    parser.add_argument('--training_type', type=str, default=\"Normal\",\n",
    "                        help='Normal, LabelSmoothing, AdvReg, DP, MixupMMD, PATE')\n",
    "    parser.add_argument('--mode', type=str, default=\"shadow\",\n",
    "                        help='target, shadow')\n",
    "\n",
    "    parser.add_argument('--epochs', type=int, default=100,\n",
    "                        help='number of training epochs')\n",
    "    parser.add_argument('--gpu', type=int, default=0,\n",
    "                        help='gpu index used for training')\n",
    "\n",
    "    # model dataset\n",
    "    parser.add_argument('--model', type=str, default='resnet18')\n",
    "    parser.add_argument('--load-pretrained', type=str, default='no')\n",
    "    parser.add_argument('--task', type=str, default='mia',\n",
    "                        help='specify the attack task, mia or ol')\n",
    "    parser.add_argument('--dataset', type=str, default='CIFAR10',\n",
    "                        help='dataset')\n",
    "    parser.add_argument('--num-class', type=int, default=10,\n",
    "                        help='number of classes')\n",
    "    parser.add_argument('--inference-dataset', type=str, default='CIFAR10',\n",
    "                        help='if yes, load pretrained the attack model to inference')\n",
    "    parser.add_argument('--data-path', type=str, default='../datasets/',\n",
    "                        help='data_path')\n",
    "    parser.add_argument('--input-shape', type=str, default=\"32,32,3\",\n",
    "                        help='comma delimited input shape input')\n",
    "    parser.add_argument('--log_path', type=str,\n",
    "                        default='./save', help='data_path')\n",
    "    # 默认储存到save里 \n",
    "    \n",
    "\n",
    "    args = parser.parse_args(args= config_list)\n",
    "\n",
    "    args.input_shape = [int(item) for item in args.input_shape.split(',')]\n",
    "    args.device = 'cuda:%d' % args.gpu if torch.cuda.is_available() else 'cpu'\n",
    "\n",
    "    return args"
   ]
  },
  {
   "cell_type": "code",
   "execution_count": null,
   "metadata": {},
   "outputs": [],
   "source": []
  },
  {
   "cell_type": "code",
   "execution_count": 5,
   "metadata": {},
   "outputs": [
    {
     "name": "stdout",
     "output_type": "stream",
     "text": [
      "True\n",
      "False\n",
      "0\n",
      "10000\n"
     ]
    }
   ],
   "source": [
    "import argparse\n",
    "\n",
    "parser = argparse.ArgumentParser(description='test')\n",
    "\n",
    "parser.add_argument('--sparse', action='store_true', default=False, help='GAT with sparse version or not.')\n",
    "parser.add_argument('--seed', type=int, default=72, help='Random seed.')\n",
    "parser.add_argument('--epochs', type=int, default=10000, help='Number of epochs to train.')\n",
    "\n",
    "\n",
    "\n",
    "\n",
    "args = parser.parse_args(args=['--seed', '0',  '--sparse'])\n",
    "print(args.sparse)\n",
    "\n",
    "args = parser.parse_args(args=['--seed', '0'])\n",
    "\n",
    "print(args.sparse)\n",
    "print(args.seed)\n",
    "print(args.epochs)\n"
   ]
  },
  {
   "cell_type": "code",
   "execution_count": 13,
   "metadata": {},
   "outputs": [],
   "source": [
    "opt = parse_args(['--mode', 'target'])\n"
   ]
  },
  {
   "cell_type": "code",
   "execution_count": 20,
   "metadata": {},
   "outputs": [
    {
     "name": "stdout",
     "output_type": "stream",
     "text": [
      "add simple data augmentation!\n",
      "add simple data augmentation!\n",
      "Files already downloaded and verified\n",
      "Files already downloaded and verified\n",
      "Preparing dataloader!\n",
      "dataset:  60000\n",
      "target_train: 10000 \t target_inference: 10000 \t target_test: 10000\n"
     ]
    }
   ],
   "source": [
    "s = GetDataLoader(opt)\n",
    "target_train_loader, target_inference_loader, target_test_loader, shadow_train_loader, shadow_inference_loader, shadow_test_loader = s.get_data_supervised()\n"
   ]
  },
  {
   "cell_type": "code",
   "execution_count": 30,
   "metadata": {},
   "outputs": [
    {
     "name": "stderr",
     "output_type": "stream",
     "text": [
      "/tmp/ipykernel_425479/1501227715.py:4: UserWarning: The use of `x.T` on tensors of dimension other than 2 to reverse their shape is deprecated and it will throw an error in a future release. Consider `x.mT` to transpose batches of matrices or `x.permute(*torch.arange(x.ndim - 1, -1, -1))` to reverse the dimensions of a tensor. (Triggered internally at /opt/conda/conda-bld/pytorch_1670525552411/work/aten/src/ATen/native/TensorShape.cpp:3277.)\n",
      "  plt.imshow(img.T)\n"
     ]
    },
    {
     "data": {
      "image/png": "[encoded data removed]",
      "text/plain": [
       "<Figure size 640x480 with 1 Axes>"
      ]
     },
     "metadata": {},
     "output_type": "display_data"
    },
    {
     "name": "stdout",
     "output_type": "stream",
     "text": [
      "Label: 4\n"
     ]
    }
   ],
   "source": [
    "train_features, train_labels= next(iter(target_train_loader))\n",
    "img = train_features[0].squeeze()\n",
    "label = train_labels[0]\n",
    "plt.imshow(img.T)\n",
    "plt.show()\n",
    "print(f\"Label: {label}\")"
   ]
  },
  {
   "cell_type": "code",
   "execution_count": 19,
   "metadata": {},
   "outputs": [
    {
     "data": {
      "text/plain": [
       "set"
      ]
     },
     "execution_count": 19,
     "metadata": {},
     "output_type": "execute_result"
    }
   ],
   "source": [
    "\n",
    "from data_preprocessing import configs\n",
    "type(configs.SUPPORTED_IMAGE_DATASETS_ATTRIBUTE_INFERENCE)"
   ]
  }
 ],
 "metadata": {
  "kernelspec": {
   "display_name": "ml-hospital",
   "language": "python",
   "name": "python3"
  },
  "language_info": {
   "codemirror_mode": {
    "name": "ipython",
    "version": 3
   },
   "file_extension": ".py",
   "mimetype": "text/x-python",
   "name": "python",
   "nbconvert_exporter": "python",
   "pygments_lexer": "ipython3",
   "version": "3.8.16"
  },
  "orig_nbformat": 4
 },
 "nbformat": 4,
 "nbformat_minor": 2
}
