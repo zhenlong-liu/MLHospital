{
 "cells": [
  {
   "cell_type": "code",
   "execution_count": 1,
   "metadata": {},
   "outputs": [
    {
     "name": "stderr",
     "output_type": "stream",
     "text": [
      "/data/anaconda3/envs/ml-hospital/lib/python3.8/site-packages/tqdm/auto.py:22: TqdmWarning: IProgress not found. Please update jupyter and ipywidgets. See https://ipywidgets.readthedocs.io/en/stable/user_install.html\n",
      "  from .autonotebook import tqdm as notebook_tqdm\n"
     ]
    }
   ],
   "source": [
    "import os\n",
    "import sys\n",
    "sys.path.append('/home/liuzhenlong/MIA/MLHospital/mlh/')\n",
    "sys.path.append('/home/liuzhenlong/MIA/MLHospital/mlh/defenses')\n",
    "import matplotlib.pyplot as plt\n",
    "import torchvision\n",
    "from defenses.membership_inference.AdvReg import TrainTargetAdvReg\n",
    "from defenses.membership_inference.DPSGD import TrainTargetDP\n",
    "from defenses.membership_inference.LabelSmoothing import TrainTargetLabelSmoothing\n",
    "from defenses.membership_inference.MixupMMD import TrainTargetMixupMMD\n",
    "from defenses.membership_inference.PATE import TrainTargetPATE\n",
    "from defenses.membership_inference.Normal import TrainTargetNormal\n",
    "\n",
    "from defenses.membership_inference.logit_norm import TrainTargetLogitsNorm\n",
    "\n",
    "\n",
    "from tqdm import tqdm\n",
    "import torch\n",
    "import torch.nn as nn\n",
    "import torch.nn.functional as F\n",
    "from data_preprocessing.data_loader import GetDataLoader\n",
    "from torchvision import datasets\n",
    "import torchvision.transforms as transforms\n",
    "import argparse\n",
    "import numpy as np\n",
    "import torch.optim as optim\n",
    "torch.manual_seed(0)\n",
    "np.random.seed(0)\n",
    "torch.set_num_threads(1)\n",
    "\n",
    "\n"
   ]
  },
  {
   "cell_type": "code",
   "execution_count": 151,
   "metadata": {},
   "outputs": [],
   "source": []
  },
  {
   "cell_type": "code",
   "execution_count": 152,
   "metadata": {},
   "outputs": [
    {
     "name": "stdout",
     "output_type": "stream",
     "text": [
      "name: zzz2\n",
      "age: 19 weight: 58\n",
      "lzl3\n",
      "55\n"
     ]
    }
   ],
   "source": []
  },
  {
   "cell_type": "code",
   "execution_count": 153,
   "metadata": {},
   "outputs": [
    {
     "name": "stdout",
     "output_type": "stream",
     "text": [
      "name: zzz2\n",
      "age: 25 weight: 58\n"
     ]
    }
   ],
   "source": []
  },
  {
   "cell_type": "code",
   "execution_count": 154,
   "metadata": {},
   "outputs": [
    {
     "name": "stdout",
     "output_type": "stream",
     "text": [
      "18\n",
      "name: lzl\n",
      "age: 18 sex: f\n",
      "name: zzz\n",
      "age: 19 sex: f\n",
      "25\n",
      "f\n",
      "name: abc\n",
      "age: 11 weight: 88\n",
      "name: 11\n",
      "age: 20 weight: abc2\n",
      "name: zzz2\n",
      "age: 20 weight: 58\n",
      "89\n"
     ]
    }
   ],
   "source": [
    "class Admin(User):\n",
    "    def __init__(self,weight,name='zzz2',age=20):\n",
    "        super().__init__(name,age)#因为此处要用父类的sex初值，所以就无须提供sex的值了\n",
    "        self.weight = weight\n",
    "    def show(self):\n",
    "        print('name:', self.name)\n",
    "        print('age:',self.age, 'weight:',self.weight)\n",
    "a1=Admin(88,name='abc',age=11)\n",
    "\n",
    "AA= User(name ='lzl',age =18)\n",
    "print(AA.age)\n",
    "AA.show()\n",
    "BB= User()\n",
    "BB.show()\n",
    "\n",
    "print(BB.info)\n",
    "\n",
    "\n",
    "a1=Admin(88,name='abc',age=11)\n",
    "a2=Admin('abc2',11)\n",
    "a3=Admin(weight=58)\n",
    "\n",
    "print(a1.sex)\n",
    "a1.show()\n",
    "a2.show()\n",
    "a3.show()\n",
    "a3.info =89\n",
    "print(a3.info)"
   ]
  },
  {
   "cell_type": "code",
   "execution_count": null,
   "metadata": {},
   "outputs": [],
   "source": []
  },
  {
   "cell_type": "code",
   "execution_count": 2,
   "metadata": {},
   "outputs": [],
   "source": [
    "def parse_args(config_list):\n",
    "    parser = argparse.ArgumentParser('argument for training')\n",
    "\n",
    "    parser.add_argument('--batch-size', type=int, default=512,\n",
    "                        help='batch_size')\n",
    "    parser.add_argument('--num-workers', type=int, default=10,\n",
    "                        help='num of workers to use')\n",
    "\n",
    "    parser.add_argument('--training_type', type=str, default=\"Normal\",\n",
    "                        help='Normal, LabelSmoothing, AdvReg, DP, MixupMMD, PATE')\n",
    "    parser.add_argument('--mode', type=str, default=\"shadow\",\n",
    "                        help='target, shadow')\n",
    "\n",
    "    parser.add_argument('--epochs', type=int, default=100,\n",
    "                        help='number of training epochs')\n",
    "    parser.add_argument('--gpu', type=int, default=0,\n",
    "                        help='gpu index used for training')\n",
    "\n",
    "    # model dataset\n",
    "    parser.add_argument('--model', type=str, default='resnet18')\n",
    "    parser.add_argument('--load-pretrained', type=str, default='no')\n",
    "    parser.add_argument('--task', type=str, default='mia',\n",
    "                        help='specify the attack task, mia or ol')\n",
    "    parser.add_argument('--dataset', type=str, default='CIFAR10',\n",
    "                        help='dataset')\n",
    "    parser.add_argument('--num-class', type=int, default=10,\n",
    "                        help='number of classes')\n",
    "    parser.add_argument('--inference-dataset', type=str, default='CIFAR10',\n",
    "                        help='if yes, load pretrained the attack model to inference')\n",
    "    parser.add_argument('--data-path', type=str, default='../datasets/',\n",
    "                        help='data_path')\n",
    "    parser.add_argument('--input-shape', type=str, default=\"32,32,3\",\n",
    "                        help='comma delimited input shape input')\n",
    "    parser.add_argument('--log_path', type=str,\n",
    "                        default='./save', help='data_path')\n",
    "    # 默认储存到save里 \n",
    "    \n",
    "\n",
    "    args = parser.parse_args(args= config_list)\n",
    "\n",
    "    args.input_shape = [int(item) for item in args.input_shape.split(',')]\n",
    "    args.device = 'cuda:%d' % args.gpu if torch.cuda.is_available() else 'cpu'\n",
    "\n",
    "    return args"
   ]
  },
  {
   "cell_type": "code",
   "execution_count": null,
   "metadata": {},
   "outputs": [],
   "source": []
  },
  {
   "cell_type": "code",
   "execution_count": 3,
   "metadata": {},
   "outputs": [
    {
     "name": "stdout",
     "output_type": "stream",
     "text": [
      "True\n",
      "False\n",
      "0\n",
      "10000\n"
     ]
    }
   ],
   "source": [
    "import argparse\n",
    "\n",
    "parser = argparse.ArgumentParser(description='test')\n",
    "\n",
    "parser.add_argument('--sparse', action='store_true', default=False, help='GAT with sparse version or not.')\n",
    "parser.add_argument('--seed', type=int, default=72, help='Random seed.')\n",
    "parser.add_argument('--epochs', type=int, default=10000, help='Number of epochs to train.')\n",
    "\n",
    "\n",
    "\n",
    "\n",
    "args = parser.parse_args(args=['--seed', '0',  '--sparse'])\n",
    "print(args.sparse)\n",
    "\n",
    "args = parser.parse_args(args=['--seed', '0'])\n",
    "\n",
    "print(args.sparse)\n",
    "print(args.seed)\n",
    "print(args.epochs)\n"
   ]
  },
  {
   "cell_type": "code",
   "execution_count": 4,
   "metadata": {},
   "outputs": [],
   "source": [
    "opt = parse_args(['--mode', 'target'])\n"
   ]
  },
  {
   "cell_type": "code",
   "execution_count": 158,
   "metadata": {},
   "outputs": [
    {
     "name": "stdout",
     "output_type": "stream",
     "text": [
      "add simple data augmentation!\n",
      "add simple data augmentation!\n",
      "Files already downloaded and verified\n",
      "Files already downloaded and verified\n",
      "Preparing dataloader!\n",
      "dataset:  60000\n",
      "target_train: 10000 \t target_inference: 10000 \t target_test: 10000\n"
     ]
    }
   ],
   "source": [
    "s = GetDataLoader(opt)\n",
    "target_train_loader, target_inference_loader, target_test_loader, shadow_train_loader, shadow_inference_loader, shadow_test_loader = s.get_data_supervised()\n"
   ]
  },
  {
   "cell_type": "code",
   "execution_count": 159,
   "metadata": {},
   "outputs": [
    {
     "data": {
      "image/png": "[encoded data removed]",
      "text/plain": [
       "<Figure size 640x480 with 1 Axes>"
      ]
     },
     "metadata": {},
     "output_type": "display_data"
    },
    {
     "name": "stdout",
     "output_type": "stream",
     "text": [
      "Label: 7\n"
     ]
    }
   ],
   "source": [
    "\n",
    "\n",
    "train_features, train_labels= next(iter(target_train_loader))\n",
    "img = train_features[0].squeeze()\n",
    "label = train_labels[0]\n",
    "plt.imshow(img.T)\n",
    "plt.show()\n",
    "print(f\"Label: {label}\")"
   ]
  },
  {
   "cell_type": "code",
   "execution_count": 160,
   "metadata": {},
   "outputs": [
    {
     "data": {
      "text/plain": [
       "set"
      ]
     },
     "execution_count": 160,
     "metadata": {},
     "output_type": "execute_result"
    }
   ],
   "source": [
    "\n",
    "from data_preprocessing import configs\n",
    "type(configs.SUPPORTED_IMAGE_DATASETS_ATTRIBUTE_INFERENCE)"
   ]
  },
  {
   "cell_type": "code",
   "execution_count": 167,
   "metadata": {},
   "outputs": [],
   "source": [
    "if opt.mode == \"target\":\n",
    "        train_loader, inference_loader, test_loader = target_train_loader, target_inference_loader, target_test_loader\n",
    "        \n",
    "        # train_loader is a dataloader, using next(), feature shape is [128,3,32,32], label shape [128]\n",
    "    # \n",
    "elif opt.mode == \"shadow\":\n",
    "    train_loader, inference_loader, test_loader = shadow_train_loader, shadow_inference_loader, shadow_test_loader\n",
    "else:\n",
    "    raise ValueError(\"opt.mode should be target or shadow\")"
   ]
  },
  {
   "cell_type": "code",
   "execution_count": 162,
   "metadata": {},
   "outputs": [],
   "source": [
    "def get_target_model(name=\"resnet18\", num_classes=10):\n",
    "    if name == \"resnet18\":\n",
    "        model = torchvision.models.resnet18()\n",
    "        model.fc = nn.Sequential(nn.Linear(512, 10))\n",
    "        # 代码修改了ResNet-18模型的最后一层全连接层，将其替换为一个新的全连接层nn.Linear(512, 10)，\n",
    "        # 其中512是ResNet-18模型中最后一个卷积层的输出通道数，10是类别数量。这样做是为了将模型的输出调整为与任务中的类别数量相匹配。\n",
    "    else:\n",
    "        raise ValueError(\"Model not implemented yet :P\")\n",
    "    return model\n",
    "\n",
    "\n",
    "def evaluate(args, model, dataloader):\n",
    "    model.eval()\n",
    "    correct = 0\n",
    "    total = 0\n",
    "    for data in dataloader:\n",
    "        inputs, labels = data\n",
    "        inputs, labels = inputs.to(args.device), labels.to(args.device)\n",
    "        outputs = model(inputs)\n",
    "        _, predicted = outputs.max(1)\n",
    "        total += labels.size(0)\n",
    "        correct += predicted.eq(labels).sum().item()\n",
    "    model.train()\n",
    "    return correct / total"
   ]
  },
  {
   "cell_type": "code",
   "execution_count": 163,
   "metadata": {},
   "outputs": [],
   "source": [
    "target_model = get_target_model(name=\"resnet18\", num_classes=10)\n",
    "\n",
    "save_pth = f'{opt.log_path}2/{opt.dataset}/{opt.training_type}/{opt.mode}'"
   ]
  },
  {
   "cell_type": "code",
   "execution_count": 164,
   "metadata": {},
   "outputs": [
    {
     "data": {
      "text/plain": [
       "'./save2/CIFAR10/Normal/target'"
      ]
     },
     "execution_count": 164,
     "metadata": {},
     "output_type": "execute_result"
    }
   ],
   "source": [
    "f'{opt.log_path}2/{opt.dataset}/{opt.training_type}/{opt.mode}'"
   ]
  },
  {
   "cell_type": "code",
   "execution_count": null,
   "metadata": {},
   "outputs": [],
   "source": []
  },
  {
   "cell_type": "code",
   "execution_count": 166,
   "metadata": {},
   "outputs": [
    {
     "ename": "RuntimeError",
     "evalue": "Input type (torch.cuda.FloatTensor) and weight type (torch.FloatTensor) should be the same",
     "output_type": "error",
     "traceback": [
      "\u001b[0;31m---------------------------------------------------------------------------\u001b[0m",
      "\u001b[0;31mRuntimeError\u001b[0m                              Traceback (most recent call last)",
      "Cell \u001b[0;32mIn[166], line 4\u001b[0m\n\u001b[1;32m      2\u001b[0m device \u001b[39m=\u001b[39m torch\u001b[39m.\u001b[39mdevice(\u001b[39m\"\u001b[39m\u001b[39mcuda\u001b[39m\u001b[39m\"\u001b[39m \u001b[39mif\u001b[39;00m torch\u001b[39m.\u001b[39mcuda\u001b[39m.\u001b[39mis_available() \u001b[39melse\u001b[39;00m \u001b[39m\"\u001b[39m\u001b[39mcpu\u001b[39m\u001b[39m\"\u001b[39m)\n\u001b[1;32m      3\u001b[0m img \u001b[39m=\u001b[39m img\u001b[39m.\u001b[39mto(device)\n\u001b[0;32m----> 4\u001b[0m target_model(img)\u001b[39m.\u001b[39mshape\n",
      "File \u001b[0;32m/data/anaconda3/envs/ml-hospital/lib/python3.8/site-packages/torch/nn/modules/module.py:1194\u001b[0m, in \u001b[0;36mModule._call_impl\u001b[0;34m(self, *input, **kwargs)\u001b[0m\n\u001b[1;32m   1190\u001b[0m \u001b[39m# If we don't have any hooks, we want to skip the rest of the logic in\u001b[39;00m\n\u001b[1;32m   1191\u001b[0m \u001b[39m# this function, and just call forward.\u001b[39;00m\n\u001b[1;32m   1192\u001b[0m \u001b[39mif\u001b[39;00m \u001b[39mnot\u001b[39;00m (\u001b[39mself\u001b[39m\u001b[39m.\u001b[39m_backward_hooks \u001b[39mor\u001b[39;00m \u001b[39mself\u001b[39m\u001b[39m.\u001b[39m_forward_hooks \u001b[39mor\u001b[39;00m \u001b[39mself\u001b[39m\u001b[39m.\u001b[39m_forward_pre_hooks \u001b[39mor\u001b[39;00m _global_backward_hooks\n\u001b[1;32m   1193\u001b[0m         \u001b[39mor\u001b[39;00m _global_forward_hooks \u001b[39mor\u001b[39;00m _global_forward_pre_hooks):\n\u001b[0;32m-> 1194\u001b[0m     \u001b[39mreturn\u001b[39;00m forward_call(\u001b[39m*\u001b[39;49m\u001b[39minput\u001b[39;49m, \u001b[39m*\u001b[39;49m\u001b[39m*\u001b[39;49mkwargs)\n\u001b[1;32m   1195\u001b[0m \u001b[39m# Do not call functions when jit is used\u001b[39;00m\n\u001b[1;32m   1196\u001b[0m full_backward_hooks, non_full_backward_hooks \u001b[39m=\u001b[39m [], []\n",
      "File \u001b[0;32m/data/anaconda3/envs/ml-hospital/lib/python3.8/site-packages/torchvision/models/resnet.py:285\u001b[0m, in \u001b[0;36mResNet.forward\u001b[0;34m(self, x)\u001b[0m\n\u001b[1;32m    284\u001b[0m \u001b[39mdef\u001b[39;00m \u001b[39mforward\u001b[39m(\u001b[39mself\u001b[39m, x: Tensor) \u001b[39m-\u001b[39m\u001b[39m>\u001b[39m Tensor:\n\u001b[0;32m--> 285\u001b[0m     \u001b[39mreturn\u001b[39;00m \u001b[39mself\u001b[39;49m\u001b[39m.\u001b[39;49m_forward_impl(x)\n",
      "File \u001b[0;32m/data/anaconda3/envs/ml-hospital/lib/python3.8/site-packages/torchvision/models/resnet.py:268\u001b[0m, in \u001b[0;36mResNet._forward_impl\u001b[0;34m(self, x)\u001b[0m\n\u001b[1;32m    266\u001b[0m \u001b[39mdef\u001b[39;00m \u001b[39m_forward_impl\u001b[39m(\u001b[39mself\u001b[39m, x: Tensor) \u001b[39m-\u001b[39m\u001b[39m>\u001b[39m Tensor:\n\u001b[1;32m    267\u001b[0m     \u001b[39m# See note [TorchScript super()]\u001b[39;00m\n\u001b[0;32m--> 268\u001b[0m     x \u001b[39m=\u001b[39m \u001b[39mself\u001b[39;49m\u001b[39m.\u001b[39;49mconv1(x)\n\u001b[1;32m    269\u001b[0m     x \u001b[39m=\u001b[39m \u001b[39mself\u001b[39m\u001b[39m.\u001b[39mbn1(x)\n\u001b[1;32m    270\u001b[0m     x \u001b[39m=\u001b[39m \u001b[39mself\u001b[39m\u001b[39m.\u001b[39mrelu(x)\n",
      "File \u001b[0;32m/data/anaconda3/envs/ml-hospital/lib/python3.8/site-packages/torch/nn/modules/module.py:1194\u001b[0m, in \u001b[0;36mModule._call_impl\u001b[0;34m(self, *input, **kwargs)\u001b[0m\n\u001b[1;32m   1190\u001b[0m \u001b[39m# If we don't have any hooks, we want to skip the rest of the logic in\u001b[39;00m\n\u001b[1;32m   1191\u001b[0m \u001b[39m# this function, and just call forward.\u001b[39;00m\n\u001b[1;32m   1192\u001b[0m \u001b[39mif\u001b[39;00m \u001b[39mnot\u001b[39;00m (\u001b[39mself\u001b[39m\u001b[39m.\u001b[39m_backward_hooks \u001b[39mor\u001b[39;00m \u001b[39mself\u001b[39m\u001b[39m.\u001b[39m_forward_hooks \u001b[39mor\u001b[39;00m \u001b[39mself\u001b[39m\u001b[39m.\u001b[39m_forward_pre_hooks \u001b[39mor\u001b[39;00m _global_backward_hooks\n\u001b[1;32m   1193\u001b[0m         \u001b[39mor\u001b[39;00m _global_forward_hooks \u001b[39mor\u001b[39;00m _global_forward_pre_hooks):\n\u001b[0;32m-> 1194\u001b[0m     \u001b[39mreturn\u001b[39;00m forward_call(\u001b[39m*\u001b[39;49m\u001b[39minput\u001b[39;49m, \u001b[39m*\u001b[39;49m\u001b[39m*\u001b[39;49mkwargs)\n\u001b[1;32m   1195\u001b[0m \u001b[39m# Do not call functions when jit is used\u001b[39;00m\n\u001b[1;32m   1196\u001b[0m full_backward_hooks, non_full_backward_hooks \u001b[39m=\u001b[39m [], []\n",
      "File \u001b[0;32m/data/anaconda3/envs/ml-hospital/lib/python3.8/site-packages/torch/nn/modules/conv.py:463\u001b[0m, in \u001b[0;36mConv2d.forward\u001b[0;34m(self, input)\u001b[0m\n\u001b[1;32m    462\u001b[0m \u001b[39mdef\u001b[39;00m \u001b[39mforward\u001b[39m(\u001b[39mself\u001b[39m, \u001b[39minput\u001b[39m: Tensor) \u001b[39m-\u001b[39m\u001b[39m>\u001b[39m Tensor:\n\u001b[0;32m--> 463\u001b[0m     \u001b[39mreturn\u001b[39;00m \u001b[39mself\u001b[39;49m\u001b[39m.\u001b[39;49m_conv_forward(\u001b[39minput\u001b[39;49m, \u001b[39mself\u001b[39;49m\u001b[39m.\u001b[39;49mweight, \u001b[39mself\u001b[39;49m\u001b[39m.\u001b[39;49mbias)\n",
      "File \u001b[0;32m/data/anaconda3/envs/ml-hospital/lib/python3.8/site-packages/torch/nn/modules/conv.py:459\u001b[0m, in \u001b[0;36mConv2d._conv_forward\u001b[0;34m(self, input, weight, bias)\u001b[0m\n\u001b[1;32m    455\u001b[0m \u001b[39mif\u001b[39;00m \u001b[39mself\u001b[39m\u001b[39m.\u001b[39mpadding_mode \u001b[39m!=\u001b[39m \u001b[39m'\u001b[39m\u001b[39mzeros\u001b[39m\u001b[39m'\u001b[39m:\n\u001b[1;32m    456\u001b[0m     \u001b[39mreturn\u001b[39;00m F\u001b[39m.\u001b[39mconv2d(F\u001b[39m.\u001b[39mpad(\u001b[39minput\u001b[39m, \u001b[39mself\u001b[39m\u001b[39m.\u001b[39m_reversed_padding_repeated_twice, mode\u001b[39m=\u001b[39m\u001b[39mself\u001b[39m\u001b[39m.\u001b[39mpadding_mode),\n\u001b[1;32m    457\u001b[0m                     weight, bias, \u001b[39mself\u001b[39m\u001b[39m.\u001b[39mstride,\n\u001b[1;32m    458\u001b[0m                     _pair(\u001b[39m0\u001b[39m), \u001b[39mself\u001b[39m\u001b[39m.\u001b[39mdilation, \u001b[39mself\u001b[39m\u001b[39m.\u001b[39mgroups)\n\u001b[0;32m--> 459\u001b[0m \u001b[39mreturn\u001b[39;00m F\u001b[39m.\u001b[39;49mconv2d(\u001b[39minput\u001b[39;49m, weight, bias, \u001b[39mself\u001b[39;49m\u001b[39m.\u001b[39;49mstride,\n\u001b[1;32m    460\u001b[0m                 \u001b[39mself\u001b[39;49m\u001b[39m.\u001b[39;49mpadding, \u001b[39mself\u001b[39;49m\u001b[39m.\u001b[39;49mdilation, \u001b[39mself\u001b[39;49m\u001b[39m.\u001b[39;49mgroups)\n",
      "\u001b[0;31mRuntimeError\u001b[0m: Input type (torch.cuda.FloatTensor) and weight type (torch.FloatTensor) should be the same"
     ]
    }
   ],
   "source": [
    "img = train_features\n",
    "device = torch.device(\"cuda\" if torch.cuda.is_available() else \"cpu\")\n",
    "img = img.to(device)\n",
    "target_model(img).shape"
   ]
  },
  {
   "attachments": {},
   "cell_type": "markdown",
   "metadata": {},
   "source": []
  },
  {
   "cell_type": "code",
   "execution_count": null,
   "metadata": {},
   "outputs": [],
   "source": []
  },
  {
   "cell_type": "code",
   "execution_count": 45,
   "metadata": {},
   "outputs": [
    {
     "name": "stdout",
     "output_type": "stream",
     "text": [
      "Train Epoch: 1, Total Sample: 10000, Train Acc: 31.910, Test Acc: 30.960, Total Time: 8.010s\n",
      "Train Epoch: 2, Total Sample: 10000, Train Acc: 37.250, Test Acc: 35.890, Total Time: 13.756s\n",
      "Train Epoch: 3, Total Sample: 10000, Train Acc: 41.660, Test Acc: 39.960, Total Time: 19.496s\n",
      "Train Epoch: 4, Total Sample: 10000, Train Acc: 45.250, Test Acc: 42.600, Total Time: 25.178s\n",
      "Train Epoch: 5, Total Sample: 10000, Train Acc: 35.050, Test Acc: 33.450, Total Time: 30.889s\n",
      "Train Epoch: 6, Total Sample: 10000, Train Acc: 47.960, Test Acc: 44.400, Total Time: 36.579s\n",
      "Train Epoch: 7, Total Sample: 10000, Train Acc: 49.860, Test Acc: 46.930, Total Time: 42.296s\n",
      "Train Epoch: 8, Total Sample: 10000, Train Acc: 36.120, Test Acc: 34.400, Total Time: 48.008s\n",
      "Train Epoch: 9, Total Sample: 10000, Train Acc: 56.720, Test Acc: 51.240, Total Time: 53.736s\n",
      "Train Epoch: 10, Total Sample: 10000, Train Acc: 49.010, Test Acc: 45.790, Total Time: 59.501s\n",
      "Train Epoch: 11, Total Sample: 10000, Train Acc: 49.430, Test Acc: 45.940, Total Time: 65.225s\n",
      "Train Epoch: 12, Total Sample: 10000, Train Acc: 59.080, Test Acc: 54.170, Total Time: 70.913s\n",
      "Train Epoch: 13, Total Sample: 10000, Train Acc: 55.840, Test Acc: 51.270, Total Time: 76.654s\n",
      "Train Epoch: 14, Total Sample: 10000, Train Acc: 55.980, Test Acc: 50.780, Total Time: 82.420s\n",
      "Train Epoch: 15, Total Sample: 10000, Train Acc: 61.710, Test Acc: 55.030, Total Time: 88.157s\n",
      "Train Epoch: 16, Total Sample: 10000, Train Acc: 62.260, Test Acc: 55.790, Total Time: 93.918s\n",
      "Train Epoch: 17, Total Sample: 10000, Train Acc: 66.010, Test Acc: 57.940, Total Time: 99.649s\n",
      "Train Epoch: 18, Total Sample: 10000, Train Acc: 59.120, Test Acc: 53.180, Total Time: 105.386s\n",
      "Train Epoch: 19, Total Sample: 10000, Train Acc: 61.320, Test Acc: 53.490, Total Time: 111.080s\n",
      "Train Epoch: 20, Total Sample: 10000, Train Acc: 66.670, Test Acc: 57.800, Total Time: 116.850s\n",
      "Train Epoch: 21, Total Sample: 10000, Train Acc: 67.370, Test Acc: 58.190, Total Time: 122.576s\n",
      "Train Epoch: 22, Total Sample: 10000, Train Acc: 60.410, Test Acc: 52.930, Total Time: 128.275s\n",
      "Train Epoch: 23, Total Sample: 10000, Train Acc: 65.600, Test Acc: 57.130, Total Time: 133.960s\n",
      "Train Epoch: 24, Total Sample: 10000, Train Acc: 70.340, Test Acc: 60.040, Total Time: 139.662s\n",
      "Train Epoch: 25, Total Sample: 10000, Train Acc: 70.390, Test Acc: 59.550, Total Time: 145.357s\n",
      "Train Epoch: 26, Total Sample: 10000, Train Acc: 71.940, Test Acc: 60.630, Total Time: 151.067s\n",
      "Train Epoch: 27, Total Sample: 10000, Train Acc: 68.740, Test Acc: 58.530, Total Time: 156.780s\n",
      "Train Epoch: 28, Total Sample: 10000, Train Acc: 69.940, Test Acc: 58.930, Total Time: 162.481s\n",
      "Train Epoch: 29, Total Sample: 10000, Train Acc: 66.500, Test Acc: 56.240, Total Time: 168.180s\n",
      "Train Epoch: 30, Total Sample: 10000, Train Acc: 70.920, Test Acc: 58.950, Total Time: 173.901s\n",
      "Train Epoch: 31, Total Sample: 10000, Train Acc: 76.430, Test Acc: 61.970, Total Time: 179.626s\n",
      "Train Epoch: 32, Total Sample: 10000, Train Acc: 72.240, Test Acc: 58.270, Total Time: 185.337s\n",
      "Train Epoch: 33, Total Sample: 10000, Train Acc: 75.840, Test Acc: 61.450, Total Time: 191.030s\n",
      "Train Epoch: 34, Total Sample: 10000, Train Acc: 63.340, Test Acc: 53.520, Total Time: 196.758s\n",
      "Train Epoch: 35, Total Sample: 10000, Train Acc: 80.740, Test Acc: 63.910, Total Time: 202.450s\n",
      "Train Epoch: 36, Total Sample: 10000, Train Acc: 80.560, Test Acc: 63.290, Total Time: 208.145s\n",
      "Train Epoch: 37, Total Sample: 10000, Train Acc: 72.150, Test Acc: 58.020, Total Time: 213.863s\n",
      "Train Epoch: 38, Total Sample: 10000, Train Acc: 72.290, Test Acc: 58.190, Total Time: 219.549s\n",
      "Train Epoch: 39, Total Sample: 10000, Train Acc: 77.520, Test Acc: 60.550, Total Time: 225.272s\n",
      "Train Epoch: 40, Total Sample: 10000, Train Acc: 80.160, Test Acc: 62.480, Total Time: 230.988s\n",
      "Train Epoch: 41, Total Sample: 10000, Train Acc: 79.680, Test Acc: 61.790, Total Time: 236.703s\n",
      "Train Epoch: 42, Total Sample: 10000, Train Acc: 80.940, Test Acc: 62.780, Total Time: 242.415s\n",
      "Train Epoch: 43, Total Sample: 10000, Train Acc: 83.080, Test Acc: 62.790, Total Time: 248.142s\n",
      "Train Epoch: 44, Total Sample: 10000, Train Acc: 79.860, Test Acc: 61.420, Total Time: 253.841s\n",
      "Train Epoch: 45, Total Sample: 10000, Train Acc: 82.370, Test Acc: 62.030, Total Time: 259.530s\n",
      "Train Epoch: 46, Total Sample: 10000, Train Acc: 78.400, Test Acc: 60.520, Total Time: 265.214s\n",
      "Train Epoch: 47, Total Sample: 10000, Train Acc: 83.740, Test Acc: 61.950, Total Time: 270.917s\n",
      "Train Epoch: 48, Total Sample: 10000, Train Acc: 88.910, Test Acc: 65.360, Total Time: 276.660s\n",
      "Train Epoch: 49, Total Sample: 10000, Train Acc: 80.860, Test Acc: 60.390, Total Time: 282.358s\n",
      "Train Epoch: 50, Total Sample: 10000, Train Acc: 85.260, Test Acc: 63.120, Total Time: 288.076s\n",
      "Train Epoch: 51, Total Sample: 10000, Train Acc: 89.380, Test Acc: 65.340, Total Time: 293.762s\n",
      "Train Epoch: 52, Total Sample: 10000, Train Acc: 89.210, Test Acc: 64.970, Total Time: 299.456s\n",
      "Train Epoch: 53, Total Sample: 10000, Train Acc: 86.940, Test Acc: 63.680, Total Time: 305.160s\n",
      "Train Epoch: 54, Total Sample: 10000, Train Acc: 90.160, Test Acc: 65.200, Total Time: 310.847s\n",
      "Train Epoch: 55, Total Sample: 10000, Train Acc: 86.280, Test Acc: 62.980, Total Time: 316.787s\n",
      "Train Epoch: 56, Total Sample: 10000, Train Acc: 90.410, Test Acc: 64.920, Total Time: 322.753s\n",
      "Train Epoch: 57, Total Sample: 10000, Train Acc: 90.390, Test Acc: 64.880, Total Time: 328.697s\n",
      "Train Epoch: 58, Total Sample: 10000, Train Acc: 90.940, Test Acc: 64.890, Total Time: 334.548s\n",
      "Train Epoch: 59, Total Sample: 10000, Train Acc: 92.950, Test Acc: 65.980, Total Time: 340.495s\n",
      "Train Epoch: 60, Total Sample: 10000, Train Acc: 92.190, Test Acc: 65.210, Total Time: 346.413s\n",
      "Train Epoch: 61, Total Sample: 10000, Train Acc: 93.750, Test Acc: 66.340, Total Time: 352.340s\n",
      "Train Epoch: 62, Total Sample: 10000, Train Acc: 90.390, Test Acc: 64.470, Total Time: 358.142s\n",
      "Train Epoch: 63, Total Sample: 10000, Train Acc: 93.940, Test Acc: 66.010, Total Time: 363.960s\n",
      "Train Epoch: 64, Total Sample: 10000, Train Acc: 94.830, Test Acc: 65.980, Total Time: 369.846s\n",
      "Train Epoch: 65, Total Sample: 10000, Train Acc: 94.660, Test Acc: 65.790, Total Time: 375.732s\n",
      "Train Epoch: 66, Total Sample: 10000, Train Acc: 95.400, Test Acc: 67.000, Total Time: 381.650s\n",
      "Train Epoch: 67, Total Sample: 10000, Train Acc: 94.020, Test Acc: 66.200, Total Time: 387.590s\n",
      "Train Epoch: 68, Total Sample: 10000, Train Acc: 92.130, Test Acc: 64.400, Total Time: 393.512s\n",
      "Train Epoch: 69, Total Sample: 10000, Train Acc: 96.090, Test Acc: 67.100, Total Time: 399.428s\n",
      "Train Epoch: 70, Total Sample: 10000, Train Acc: 95.940, Test Acc: 66.490, Total Time: 405.387s\n",
      "Train Epoch: 71, Total Sample: 10000, Train Acc: 96.140, Test Acc: 66.380, Total Time: 411.215s\n",
      "Train Epoch: 72, Total Sample: 10000, Train Acc: 96.810, Test Acc: 67.030, Total Time: 417.128s\n",
      "Train Epoch: 73, Total Sample: 10000, Train Acc: 96.270, Test Acc: 66.280, Total Time: 422.845s\n",
      "Train Epoch: 74, Total Sample: 10000, Train Acc: 96.550, Test Acc: 66.350, Total Time: 428.542s\n",
      "Train Epoch: 75, Total Sample: 10000, Train Acc: 95.750, Test Acc: 65.490, Total Time: 434.220s\n",
      "Train Epoch: 76, Total Sample: 10000, Train Acc: 97.440, Test Acc: 66.540, Total Time: 439.907s\n",
      "Train Epoch: 77, Total Sample: 10000, Train Acc: 97.780, Test Acc: 67.190, Total Time: 445.592s\n",
      "Train Epoch: 78, Total Sample: 10000, Train Acc: 97.470, Test Acc: 66.480, Total Time: 451.323s\n",
      "Train Epoch: 79, Total Sample: 10000, Train Acc: 97.780, Test Acc: 67.160, Total Time: 457.031s\n",
      "Train Epoch: 80, Total Sample: 10000, Train Acc: 98.000, Test Acc: 67.460, Total Time: 462.755s\n",
      "Train Epoch: 81, Total Sample: 10000, Train Acc: 97.740, Test Acc: 67.460, Total Time: 468.523s\n",
      "Train Epoch: 82, Total Sample: 10000, Train Acc: 98.320, Test Acc: 67.430, Total Time: 474.248s\n",
      "Train Epoch: 83, Total Sample: 10000, Train Acc: 98.060, Test Acc: 66.790, Total Time: 479.922s\n",
      "Train Epoch: 84, Total Sample: 10000, Train Acc: 98.240, Test Acc: 67.360, Total Time: 485.636s\n",
      "Train Epoch: 85, Total Sample: 10000, Train Acc: 98.480, Test Acc: 67.800, Total Time: 491.421s\n",
      "Train Epoch: 86, Total Sample: 10000, Train Acc: 98.500, Test Acc: 67.520, Total Time: 497.161s\n",
      "Train Epoch: 87, Total Sample: 10000, Train Acc: 98.610, Test Acc: 67.570, Total Time: 502.909s\n",
      "Train Epoch: 88, Total Sample: 10000, Train Acc: 98.420, Test Acc: 68.290, Total Time: 508.642s\n",
      "Train Epoch: 89, Total Sample: 10000, Train Acc: 98.560, Test Acc: 67.420, Total Time: 514.417s\n",
      "Train Epoch: 90, Total Sample: 10000, Train Acc: 98.640, Test Acc: 67.170, Total Time: 520.169s\n",
      "Train Epoch: 91, Total Sample: 10000, Train Acc: 98.770, Test Acc: 67.560, Total Time: 525.911s\n",
      "Train Epoch: 92, Total Sample: 10000, Train Acc: 98.670, Test Acc: 67.440, Total Time: 531.636s\n",
      "Train Epoch: 93, Total Sample: 10000, Train Acc: 98.810, Test Acc: 68.030, Total Time: 537.391s\n",
      "Train Epoch: 94, Total Sample: 10000, Train Acc: 98.880, Test Acc: 67.700, Total Time: 543.088s\n",
      "Train Epoch: 95, Total Sample: 10000, Train Acc: 98.680, Test Acc: 67.490, Total Time: 548.809s\n",
      "Train Epoch: 96, Total Sample: 10000, Train Acc: 98.910, Test Acc: 68.140, Total Time: 554.577s\n",
      "Train Epoch: 97, Total Sample: 10000, Train Acc: 98.720, Test Acc: 66.860, Total Time: 560.319s\n",
      "Train Epoch: 98, Total Sample: 10000, Train Acc: 98.680, Test Acc: 67.280, Total Time: 566.077s\n",
      "Train Epoch: 99, Total Sample: 10000, Train Acc: 98.970, Test Acc: 66.920, Total Time: 571.794s\n",
      "Train Epoch: 100, Total Sample: 10000, Train Acc: 98.800, Test Acc: 67.420, Total Time: 577.535s\n"
     ]
    }
   ],
   "source": [
    "total_evaluator = TrainTargetNormal(\n",
    "            model=target_model, epochs=opt.epochs, log_path=save_pth)\n",
    "total_evaluator.train(train_loader, test_loader)"
   ]
  },
  {
   "cell_type": "code",
   "execution_count": null,
   "metadata": {},
   "outputs": [],
   "source": []
  }
 ],
 "metadata": {
  "kernelspec": {
   "display_name": "ml-hospital",
   "language": "python",
   "name": "python3"
  },
  "language_info": {
   "codemirror_mode": {
    "name": "ipython",
    "version": 3
   },
   "file_extension": ".py",
   "mimetype": "text/x-python",
   "name": "python",
   "nbconvert_exporter": "python",
   "pygments_lexer": "ipython3",
   "version": "3.8.16"
  },
  "orig_nbformat": 4
 },
 "nbformat": 4,
 "nbformat_minor": 2
}
