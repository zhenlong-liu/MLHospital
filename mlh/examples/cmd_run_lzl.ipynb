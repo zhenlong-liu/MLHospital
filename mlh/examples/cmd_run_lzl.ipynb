{
 "cells": [
  {
   "cell_type": "code",
   "execution_count": 4,
   "metadata": {},
   "outputs": [],
   "source": [
    "import os\n",
    "\n",
    "temp = 0.1\n",
    "training_type = 'TrainTargetLogitNorm'\n",
    "clear =f'>./{training_type}_mia_{temp}temp.log'\n",
    "\n",
    "# 'Normal, LabelSmoothing, AdvReg, DP, MixupMMD, PATE, TrainTargetLogitNorm'\n",
    "\n",
    "#cmd = f'nohup python train_target_models.py --mode target --training_type {training_type} --temp {temp}'\n",
    "#os.system(cmd)\n",
    "cmd = f'nohup python train_target_models.py --mode shadow --training_type {training_type}  --temp {temp}'\n",
    "#os.system(cmd)\n",
    "clear = f'>./mia_{training_type}.log'\n",
    "#os.system(clear)\n",
    "cmd = f'nohup python mia_example.py --training_type {training_type} --temp {temp} > mia_{training_type}.log 2>&1'\n",
    "#os.system(cmd)"
   ]
  },
  {
   "cell_type": "code",
   "execution_count": 5,
   "metadata": {},
   "outputs": [
    {
     "name": "stdout",
     "output_type": "stream",
     "text": [
      "nohup python mia_example.py --training_type TrainTargetLogitNorm --temp 0.1 > mia_TrainTargetLogitNorm.log 2>&1\n"
     ]
    }
   ],
   "source": [
    "print(cmd)"
   ]
  },
  {
   "cell_type": "code",
   "execution_count": null,
   "metadata": {},
   "outputs": [],
   "source": [
    "# python train_target_models.py --mode target --training_type NormalLoss  --loss_type focal"
   ]
  },
  {
   "cell_type": "code",
   "execution_count": 7,
   "metadata": {},
   "outputs": [
    {
     "name": "stdout",
     "output_type": "stream",
     "text": [
      "python train_target_models.py --mode target --training_type NormalLoss --loss_type gce\n",
      "python mia_example.py --training_type NormalLoss > mia_NormalLoss_gce.log 2>&1 &\n",
      "nohup python train_target_models.py --mode target --training_type NormalLoss --loss_type gce && python train_target_models.py --mode shadow --training_type NormalLoss --loss_type gce && python mia_example.py --training_type NormalLoss > mia_NormalLoss_gce.log 2>&1 &\n"
     ]
    }
   ],
   "source": [
    "import os\n",
    "\n",
    "temp = 0.1\n",
    "training_type = 'NormalLoss'\n",
    "clear =f'>./{training_type}_mia_{temp}temp.log'\n",
    "loss_type = 'gce'\n",
    "# 'Normal, LabelSmoothing, AdvReg, DP, MixupMMD, PATE, TrainTargetLogitNorm'\n",
    "# python train_target_models.py --mode target --training_type NormalLoss  --loss_type focal\n",
    "cmd1 = f'python train_target_models.py --mode target --training_type {training_type} --loss_type {loss_type}' \n",
    "cmd2 = f'python train_target_models.py --mode shadow --training_type {training_type} --loss_type {loss_type}'\n",
    "cmd3 = f'python mia_example.py --training_type {training_type} > mia_{training_type}_{loss_type}.log 2>&1 &'\n",
    "print(cmd1)\n",
    "print(cmd3)\n",
    "print(f'nohup {cmd1} && {cmd2} && {cmd3}')\n"
   ]
  }
 ],
 "metadata": {
  "kernelspec": {
   "display_name": "ml-hospital",
   "language": "python",
   "name": "python3"
  },
  "language_info": {
   "codemirror_mode": {
    "name": "ipython",
    "version": 3
   },
   "file_extension": ".py",
   "mimetype": "text/x-python",
   "name": "python",
   "nbconvert_exporter": "python",
   "pygments_lexer": "ipython3",
   "version": "3.8.16"
  },
  "orig_nbformat": 4
 },
 "nbformat": 4,
 "nbformat_minor": 2
}
